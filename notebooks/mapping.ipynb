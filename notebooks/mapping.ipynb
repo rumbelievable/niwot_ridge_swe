{
 "cells": [
  {
   "cell_type": "code",
   "execution_count": 4,
   "metadata": {},
   "outputs": [],
   "source": [
    "import pandas as pd\n",
    "import numpy as np\n",
    "import scipy.stats as stats\n",
    "import matplotlib.pyplot as plt\n",
    "import folium "
   ]
  },
  {
   "cell_type": "code",
   "execution_count": 5,
   "metadata": {},
   "outputs": [
    {
     "name": "stdout",
     "output_type": "stream",
     "text": [
      "[Errno 2] No such file or directory: 'src/'\n",
      "/Users/annierumbles/Desktop/Coding/galvanize/capstone_work/src\n"
     ]
    }
   ],
   "source": [
    "cd src/"
   ]
  },
  {
   "cell_type": "code",
   "execution_count": 6,
   "metadata": {},
   "outputs": [],
   "source": [
    "df = pd.read_csv('/Users/annierumbles/Desktop/Coding/galvanize/capstone_work/data/latest_knb-lter-nwt.96.16/snowateq.mw.data.16.csv')"
   ]
  },
  {
   "cell_type": "code",
   "execution_count": 7,
   "metadata": {},
   "outputs": [
    {
     "data": {
      "text/plain": [
       "0   1993-02-26\n",
       "1   1993-02-26\n",
       "2   1993-02-26\n",
       "3   1993-02-26\n",
       "4   1993-03-04\n",
       "Name: date, dtype: datetime64[ns]"
      ]
     },
     "execution_count": 7,
     "metadata": {},
     "output_type": "execute_result"
    }
   ],
   "source": [
    "df2 = pd.to_datetime(df['date'])\n",
    "df2.head()"
   ]
  },
  {
   "cell_type": "code",
   "execution_count": 8,
   "metadata": {},
   "outputs": [],
   "source": [
    "df_15 = pd.read_csv('/Users/annierumbles/Desktop/Coding/galvanize/capstone_work/data/knb-lter-nwt.96.15/snowateq.mw.data.15.csv')"
   ]
  },
  {
   "cell_type": "code",
   "execution_count": 9,
   "metadata": {},
   "outputs": [
    {
     "name": "stdout",
     "output_type": "stream",
     "text": [
      "<class 'pandas.core.frame.DataFrame'>\n",
      "RangeIndex: 1264 entries, 0 to 1263\n",
      "Data columns (total 10 columns):\n",
      "LTER_site     1264 non-null object\n",
      "local_site    1251 non-null object\n",
      "samp_loc      1264 non-null object\n",
      "loc_code      1264 non-null object\n",
      "date          1264 non-null object\n",
      "prof_depth    1264 non-null float64\n",
      "mass          1198 non-null float64\n",
      "wted_temp     1238 non-null float64\n",
      "density       1198 non-null float64\n",
      "swe           1198 non-null float64\n",
      "dtypes: float64(5), object(5)\n",
      "memory usage: 98.8+ KB\n"
     ]
    }
   ],
   "source": [
    "df.info()"
   ]
  },
  {
   "cell_type": "code",
   "execution_count": 10,
   "metadata": {},
   "outputs": [
    {
     "data": {
      "text/html": [
       "<div>\n",
       "<style scoped>\n",
       "    .dataframe tbody tr th:only-of-type {\n",
       "        vertical-align: middle;\n",
       "    }\n",
       "\n",
       "    .dataframe tbody tr th {\n",
       "        vertical-align: top;\n",
       "    }\n",
       "\n",
       "    .dataframe thead th {\n",
       "        text-align: right;\n",
       "    }\n",
       "</style>\n",
       "<table border=\"1\" class=\"dataframe\">\n",
       "  <thead>\n",
       "    <tr style=\"text-align: right;\">\n",
       "      <th></th>\n",
       "      <th>LTER_site</th>\n",
       "      <th>local_site</th>\n",
       "      <th>samp_loc</th>\n",
       "      <th>loc_code</th>\n",
       "      <th>date</th>\n",
       "      <th>prof_depth</th>\n",
       "      <th>mass</th>\n",
       "      <th>wted_temp</th>\n",
       "      <th>density</th>\n",
       "      <th>swe</th>\n",
       "    </tr>\n",
       "  </thead>\n",
       "  <tbody>\n",
       "    <tr>\n",
       "      <th>0</th>\n",
       "      <td>NWT</td>\n",
       "      <td>SADDLE</td>\n",
       "      <td>SDL.008</td>\n",
       "      <td>008</td>\n",
       "      <td>1993-02-26</td>\n",
       "      <td>0.73</td>\n",
       "      <td>223.81</td>\n",
       "      <td>-8.356164</td>\n",
       "      <td>306.589041</td>\n",
       "      <td>0.22381</td>\n",
       "    </tr>\n",
       "    <tr>\n",
       "      <th>1</th>\n",
       "      <td>NWT</td>\n",
       "      <td>SADDLE</td>\n",
       "      <td>SDL.028</td>\n",
       "      <td>028</td>\n",
       "      <td>1993-02-26</td>\n",
       "      <td>0.38</td>\n",
       "      <td>100.84</td>\n",
       "      <td>-7.684211</td>\n",
       "      <td>265.368421</td>\n",
       "      <td>0.10084</td>\n",
       "    </tr>\n",
       "    <tr>\n",
       "      <th>2</th>\n",
       "      <td>NWT</td>\n",
       "      <td>SADDLE</td>\n",
       "      <td>SDL.056</td>\n",
       "      <td>056</td>\n",
       "      <td>1993-02-26</td>\n",
       "      <td>1.90</td>\n",
       "      <td>NaN</td>\n",
       "      <td>-8.000000</td>\n",
       "      <td>NaN</td>\n",
       "      <td>NaN</td>\n",
       "    </tr>\n",
       "    <tr>\n",
       "      <th>3</th>\n",
       "      <td>NWT</td>\n",
       "      <td>SADDLE</td>\n",
       "      <td>SDL.058</td>\n",
       "      <td>058</td>\n",
       "      <td>1993-02-26</td>\n",
       "      <td>0.59</td>\n",
       "      <td>181.06</td>\n",
       "      <td>-7.305085</td>\n",
       "      <td>306.881356</td>\n",
       "      <td>0.18106</td>\n",
       "    </tr>\n",
       "    <tr>\n",
       "      <th>4</th>\n",
       "      <td>NWT</td>\n",
       "      <td>SADDLE</td>\n",
       "      <td>SDL.007</td>\n",
       "      <td>007</td>\n",
       "      <td>1993-03-04</td>\n",
       "      <td>0.49</td>\n",
       "      <td>182.04</td>\n",
       "      <td>-5.489796</td>\n",
       "      <td>371.510204</td>\n",
       "      <td>0.18204</td>\n",
       "    </tr>\n",
       "  </tbody>\n",
       "</table>\n",
       "</div>"
      ],
      "text/plain": [
       "  LTER_site local_site samp_loc loc_code        date  prof_depth    mass  \\\n",
       "0       NWT     SADDLE  SDL.008      008  1993-02-26        0.73  223.81   \n",
       "1       NWT     SADDLE  SDL.028      028  1993-02-26        0.38  100.84   \n",
       "2       NWT     SADDLE  SDL.056      056  1993-02-26        1.90     NaN   \n",
       "3       NWT     SADDLE  SDL.058      058  1993-02-26        0.59  181.06   \n",
       "4       NWT     SADDLE  SDL.007      007  1993-03-04        0.49  182.04   \n",
       "\n",
       "   wted_temp     density      swe  \n",
       "0  -8.356164  306.589041  0.22381  \n",
       "1  -7.684211  265.368421  0.10084  \n",
       "2  -8.000000         NaN      NaN  \n",
       "3  -7.305085  306.881356  0.18106  \n",
       "4  -5.489796  371.510204  0.18204  "
      ]
     },
     "execution_count": 10,
     "metadata": {},
     "output_type": "execute_result"
    }
   ],
   "source": [
    "df.head()"
   ]
  },
  {
   "cell_type": "code",
   "execution_count": 11,
   "metadata": {},
   "outputs": [
    {
     "data": {
      "text/plain": [
       "['SADDLE',\n",
       " 'GL4',\n",
       " 'GL5',\n",
       " 'NAVAJO',\n",
       " 'MARTINELLI',\n",
       " 'ARIKAREE',\n",
       " 'SUBNIVEAN',\n",
       " 'ALBION',\n",
       " 'GL3',\n",
       " 'TOWER MEADOW',\n",
       " 'TOWER TREE WELL',\n",
       " 'C1',\n",
       " 'SODDIE',\n",
       " nan]"
      ]
     },
     "execution_count": 11,
     "metadata": {},
     "output_type": "execute_result"
    }
   ],
   "source": [
    "local_site_names = df['local_site'].unique()\n",
    "list(local_site_names)"
   ]
  },
  {
   "cell_type": "code",
   "execution_count": 12,
   "metadata": {},
   "outputs": [
    {
     "data": {
      "text/plain": [
       "array(['SDL.008', 'SDL.028', 'SDL.056', 'SDL.058', 'SDL.007', 'SDL.035',\n",
       "       'SDL.037', 'SDL.016', 'SDL.027', 'G4S', 'G4N', 'GL4.OUTLET', 'GL5',\n",
       "       'NAV', 'SDL.018', 'SDL.026', 'SDL.036', 'SDL.46', 'SDL.N15', 'M19',\n",
       "       'M10', 'SDL.014', 'M2', 'SDL.N15.THERMISTOR3E', 'SDL.005',\n",
       "       'SDL.N15.NO3', 'SDL.N15.NCO', 'SDL.N15.NH4', 'ARK', 'SUB',\n",
       "       'SDL.006', 'SSB', 'MA1', 'MA2', 'MA3', 'SDL.013', 'AVN', 'AVV',\n",
       "       'G3N', 'G3S', 'G3V', 'G4V', 'G5N', 'G5S', 'G5V', 'SAE', 'SAW',\n",
       "       'T30', 'SSW', 'SWN', '5OS', 'TM1', 'TM2', 'TW2', 'TW1', 'HYD',\n",
       "       'C1.BOWLING', 'G5W', 'G5E', 'NOM', 'NES', 'NEM', 'SAN', 'C1T'],\n",
       "      dtype=object)"
      ]
     },
     "execution_count": 12,
     "metadata": {},
     "output_type": "execute_result"
    }
   ],
   "source": [
    "df['samp_loc'].unique()"
   ]
  },
  {
   "cell_type": "code",
   "execution_count": 13,
   "metadata": {},
   "outputs": [
    {
     "data": {
      "text/plain": [
       "14"
      ]
     },
     "execution_count": 13,
     "metadata": {},
     "output_type": "execute_result"
    }
   ],
   "source": [
    "len(df['local_site'].unique())"
   ]
  },
  {
   "cell_type": "code",
   "execution_count": 14,
   "metadata": {},
   "outputs": [
    {
     "data": {
      "text/plain": [
       "array(['NWT'], dtype=object)"
      ]
     },
     "execution_count": 14,
     "metadata": {},
     "output_type": "execute_result"
    }
   ],
   "source": [
    "df['LTER_site'].unique()"
   ]
  },
  {
   "cell_type": "code",
   "execution_count": 15,
   "metadata": {},
   "outputs": [],
   "source": [
    "locs = df['loc_code'].unique()"
   ]
  },
  {
   "cell_type": "code",
   "execution_count": 16,
   "metadata": {},
   "outputs": [],
   "source": [
    "locs_list = []\n",
    "for i in locs:\n",
    "    locs_list.append(i)\n"
   ]
  },
  {
   "cell_type": "code",
   "execution_count": 17,
   "metadata": {},
   "outputs": [
    {
     "data": {
      "text/plain": [
       "68"
      ]
     },
     "execution_count": 17,
     "metadata": {},
     "output_type": "execute_result"
    }
   ],
   "source": [
    "len(locs_list)"
   ]
  },
  {
   "cell_type": "code",
   "execution_count": 18,
   "metadata": {},
   "outputs": [
    {
     "data": {
      "text/html": [
       "<div>\n",
       "<style scoped>\n",
       "    .dataframe tbody tr th:only-of-type {\n",
       "        vertical-align: middle;\n",
       "    }\n",
       "\n",
       "    .dataframe tbody tr th {\n",
       "        vertical-align: top;\n",
       "    }\n",
       "\n",
       "    .dataframe thead th {\n",
       "        text-align: right;\n",
       "    }\n",
       "</style>\n",
       "<table border=\"1\" class=\"dataframe\">\n",
       "  <thead>\n",
       "    <tr style=\"text-align: right;\">\n",
       "      <th></th>\n",
       "      <th>prof_depth</th>\n",
       "      <th>mass</th>\n",
       "      <th>wted_temp</th>\n",
       "      <th>density</th>\n",
       "      <th>swe</th>\n",
       "    </tr>\n",
       "  </thead>\n",
       "  <tbody>\n",
       "    <tr>\n",
       "      <th>count</th>\n",
       "      <td>1264.000000</td>\n",
       "      <td>1198.000000</td>\n",
       "      <td>1238.000000</td>\n",
       "      <td>1198.000000</td>\n",
       "      <td>1198.000000</td>\n",
       "    </tr>\n",
       "    <tr>\n",
       "      <th>mean</th>\n",
       "      <td>1.381930</td>\n",
       "      <td>544.902083</td>\n",
       "      <td>-2.904826</td>\n",
       "      <td>379.745244</td>\n",
       "      <td>0.544902</td>\n",
       "    </tr>\n",
       "    <tr>\n",
       "      <th>std</th>\n",
       "      <td>0.705884</td>\n",
       "      <td>315.118658</td>\n",
       "      <td>2.858923</td>\n",
       "      <td>82.024627</td>\n",
       "      <td>0.315119</td>\n",
       "    </tr>\n",
       "    <tr>\n",
       "      <th>min</th>\n",
       "      <td>0.070000</td>\n",
       "      <td>26.743889</td>\n",
       "      <td>-17.500000</td>\n",
       "      <td>117.250000</td>\n",
       "      <td>0.026744</td>\n",
       "    </tr>\n",
       "    <tr>\n",
       "      <th>25%</th>\n",
       "      <td>0.800000</td>\n",
       "      <td>271.967500</td>\n",
       "      <td>-4.812997</td>\n",
       "      <td>325.418651</td>\n",
       "      <td>0.271967</td>\n",
       "    </tr>\n",
       "    <tr>\n",
       "      <th>50%</th>\n",
       "      <td>1.350000</td>\n",
       "      <td>520.508333</td>\n",
       "      <td>-2.400000</td>\n",
       "      <td>379.563492</td>\n",
       "      <td>0.520508</td>\n",
       "    </tr>\n",
       "    <tr>\n",
       "      <th>75%</th>\n",
       "      <td>1.900000</td>\n",
       "      <td>785.525000</td>\n",
       "      <td>-0.136132</td>\n",
       "      <td>437.673872</td>\n",
       "      <td>0.785525</td>\n",
       "    </tr>\n",
       "    <tr>\n",
       "      <th>max</th>\n",
       "      <td>4.500000</td>\n",
       "      <td>1724.925000</td>\n",
       "      <td>0.187500</td>\n",
       "      <td>628.425150</td>\n",
       "      <td>1.724925</td>\n",
       "    </tr>\n",
       "  </tbody>\n",
       "</table>\n",
       "</div>"
      ],
      "text/plain": [
       "        prof_depth         mass    wted_temp      density          swe\n",
       "count  1264.000000  1198.000000  1238.000000  1198.000000  1198.000000\n",
       "mean      1.381930   544.902083    -2.904826   379.745244     0.544902\n",
       "std       0.705884   315.118658     2.858923    82.024627     0.315119\n",
       "min       0.070000    26.743889   -17.500000   117.250000     0.026744\n",
       "25%       0.800000   271.967500    -4.812997   325.418651     0.271967\n",
       "50%       1.350000   520.508333    -2.400000   379.563492     0.520508\n",
       "75%       1.900000   785.525000    -0.136132   437.673872     0.785525\n",
       "max       4.500000  1724.925000     0.187500   628.425150     1.724925"
      ]
     },
     "execution_count": 18,
     "metadata": {},
     "output_type": "execute_result"
    }
   ],
   "source": [
    "df.describe()"
   ]
  },
  {
   "cell_type": "code",
   "execution_count": 47,
   "metadata": {},
   "outputs": [],
   "source": [
    "color_dict = {'Saddle':'#E24A33','GL4':'#348ABD','GL5':'#988ED5','Navajo':'#777777','Martinelli':'#FBC15E',\n",
    "              'Arikaree':'#8EBA42','Subnivean':'#FFB5B8','Albion':'#92C5DE','GL3':'#80CDC1',\n",
    "              'Tower Meadow':'#5E3C99', 'Tower Tree Well':'#E66101','C1':'#F4A582','Soddie':'#B8E186'}\n",
    "def add_site(imap, loc, tag, radius=125):\n",
    "    '''\n",
    "    Plot sites on folium map.\n",
    "\n",
    "    Parameters\n",
    "    ----------\n",
    "    loc_name : list\n",
    "        Names of sampling sites.\n",
    "    lat_long : tuple\n",
    "        Latitude and longitude of each site.\n",
    "\n",
    "    Returns\n",
    "    -------\n",
    "    Folium map of sampling sites.\n",
    "    '''\n",
    "    folium.Circle(loc, radius, color='black', popup=tag, weight=5).add_to(imap)"
   ]
  },
  {
   "cell_type": "code",
   "execution_count": 96,
   "metadata": {},
   "outputs": [],
   "source": [
    "m = folium.Map(location=[40.0443, -105.5920],\n",
    "               zoom_start=13,\n",
    "               tiles='Stamen Terrain')\n",
    "m.add_child(folium.LatLngPopup())\n",
    "\n",
    "# folium.Marker([40.054155, -105.588980], \n",
    "#               popup='<b>Niwot Ridge</b>').add_to(m)\n",
    "\n",
    "names = ['SADDLE','GL4','GL5','NAVAJO','MARTINELLI','ARIKAREE','SUBNIVEAN','ALBION','GL3','TOWER MEADOW',\n",
    "         'TOWER TREE WELL','C1','SODDIE']\n",
    "# lats = {'SADDLE': (40.05, -105.59), 'GL4': (40.0558068932155, -105.61717784273749), 'GL5': (,), 'MARTINELLI' :(40.05315986684726,-105.59667627824962)\n",
    "#        }\n",
    "lter = [(40.0595312337778, -105.54), (40.03, -105.645)]\n",
    "folium.vector_layers.Rectangle(\n",
    "    bounds = lter,\n",
    "    stroke=True,\n",
    "    weight=5,\n",
    "    opacity=1,\n",
    "    color='black'\n",
    ").add_to(m)\n",
    "\n",
    "add_site(m, [40.05, -105.59], '<b>Saddle</b>')\n",
    "add_site(m, [40.047388, -105.599580], '<b>Albion</b>')\n",
    "add_site(m, (40.0558068932155, -105.61717784273749), '<b>GL4</b>')\n",
    "add_site(m, [40.0508, -105.630], '<b>GL5</b>')\n",
    "add_site(m, [40.052108, -105.635561], '<b>Navajo</b>')\n",
    "add_site(m, [40.05315986684726,-105.59667627824962], '<b>Martinelli</b>')\n",
    "add_site(m, [40.050791, -105.641416], '<b>Arikaree</b>')\n",
    "add_site(m, [40.054165, -105.588975], '<b>Subnivean</b>')\n",
    "add_site(m, [40.0512, -105.6128], '<b>GL3</b>')\n",
    "add_site(m, [40.052348, -105.583235], '<b>Tower Meadow</b>')\n",
    "add_site(m, [40.033371, -105.547389], '<b>Tower Tree Well</b>')\n",
    "add_site(m, [40.036162, -105.543529], '<b>C1</b>')\n",
    "add_site(m, [40.04, -105.57], '<b>Soddie</b>')\n",
    "\n",
    "\n",
    "# grid = [(40.056266, -105.588671), (40.05545, -105.589991)]\n",
    "# folium.vector_layers.Rectangle(\n",
    "#     bounds = grid,\n",
    "#     stroke=True,\n",
    "#     weight=1,\n",
    "#     opacity=.8,\n",
    "#     color='#3b824e',\n",
    "#     fill=True,\n",
    "#     fill_color='#3b824e',\n",
    "#     fill_opacity=.5,\n",
    "#     popup='Saddle'\n",
    "# ).add_to(m)\n",
    "\n",
    "# mart = [(40.056203, -105.602428), (40.047418, -105.591648)]\n",
    "# folium.vector_layers.Rectangle(\n",
    "#     bounds = mart,\n",
    "#     stroke=True,\n",
    "#     weight=1,\n",
    "#     opacity=.8,\n",
    "#     color='#4358a8',\n",
    "#     fill=True,\n",
    "#     fill_color='#4358a8',\n",
    "#     fill_opacity=.5,\n",
    "#     popup='Martinelli'\n",
    "# ).add_to(m)\n",
    "\n",
    "plt.show()"
   ]
  },
  {
   "cell_type": "code",
   "execution_count": 97,
   "metadata": {},
   "outputs": [
    {
     "data": {
      "text/html": [
       "<div style=\"width:100%;\"><div style=\"position:relative;width:100%;height:0;padding-bottom:60%;\"><iframe src=\"about:blank\" style=\"position:absolute;width:100%;height:100%;left:0;top:0;border:none !important;\" data-html=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 onload=\"this.contentDocument.open();this.contentDocument.write(atob(this.getAttribute('data-html')));this.contentDocument.close();\" allowfullscreen webkitallowfullscreen mozallowfullscreen></iframe></div></div>"
      ],
      "text/plain": [
       "<folium.folium.Map at 0x1a199c59e8>"
      ]
     },
     "execution_count": 97,
     "metadata": {},
     "output_type": "execute_result"
    }
   ],
   "source": [
    "m"
   ]
  },
  {
   "cell_type": "code",
   "execution_count": 22,
   "metadata": {},
   "outputs": [
    {
     "data": {
      "text/plain": [
       "['SADDLE',\n",
       " 'GL4',\n",
       " 'GL5',\n",
       " 'NAVAJO',\n",
       " 'MARTINELLI',\n",
       " 'ARIKAREE',\n",
       " 'SUBNIVEAN',\n",
       " 'ALBION',\n",
       " 'GL3',\n",
       " 'TOWER MEADOW',\n",
       " 'TOWER TREE WELL',\n",
       " 'C1',\n",
       " 'SODDIE',\n",
       " nan]"
      ]
     },
     "execution_count": 22,
     "metadata": {},
     "output_type": "execute_result"
    }
   ],
   "source": [
    "list(local_site_names)"
   ]
  },
  {
   "cell_type": "code",
   "execution_count": 23,
   "metadata": {},
   "outputs": [
    {
     "data": {
      "text/plain": [
       "<folium.vector_layers.Rectangle at 0x1a187ae0b8>"
      ]
     },
     "execution_count": 23,
     "metadata": {},
     "output_type": "execute_result"
    }
   ],
   "source": [
    "m = folium.Map(location=[40.0443, -105.5920],\n",
    "                zoom_start=13,\n",
    "                tiles='Stamen Terrain')\n",
    "m.add_child(folium.LatLngPopup())\n",
    "\n",
    "add_site(m, [40.05, -105.59], 'Saddle')\n",
    "add_site(m, [40.047388, -105.599580], 'Albion')\n",
    "add_site(m, (40.0558068932155, -105.61717784273749), 'GL4')\n",
    "add_site(m, [40.052166, -105.630514], 'GL5')\n",
    "add_site(m, [40.052108, -105.635561], 'Navajo')\n",
    "add_site(m, [40.05315986684726,-105.59667627824962], 'Martinelli')\n",
    "add_site(m, [40.050791, -105.641416], 'Arikaree')\n",
    "add_site(m, [40.054165, -105.588975], 'Subnivean')\n",
    "add_site(m, [40.051282, -105.615962], 'GL3')\n",
    "add_site(m, [40.052348, -105.583235], 'Tower Meadow')\n",
    "add_site(m, [40.033371, -105.547389], 'Tower Tree Well')\n",
    "add_site(m, [40.036162, -105.543529], 'C1')\n",
    "add_site(m, [40.04, -105.57], 'Soddie')\n",
    "\n",
    "lter = [(40.0595312337778, -105.54), (40.03, -105.645)]\n",
    "folium.vector_layers.Rectangle(\n",
    "    bounds = lter,\n",
    "    stroke=True,\n",
    "    weight=5,\n",
    "    opacity=1,\n",
    "    color='#424242'\n",
    ").add_to(m)"
   ]
  },
  {
   "cell_type": "code",
   "execution_count": 24,
   "metadata": {},
   "outputs": [
    {
     "data": {
      "text/html": [
       "<div style=\"width:100%;\"><div style=\"position:relative;width:100%;height:0;padding-bottom:60%;\"><iframe src=\"about:blank\" style=\"position:absolute;width:100%;height:100%;left:0;top:0;border:none !important;\" data-html=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 onload=\"this.contentDocument.open();this.contentDocument.write(atob(this.getAttribute('data-html')));this.contentDocument.close();\" allowfullscreen webkitallowfullscreen mozallowfullscreen></iframe></div></div>"
      ],
      "text/plain": [
       "<folium.folium.Map at 0x1a187b4cc0>"
      ]
     },
     "execution_count": 24,
     "metadata": {},
     "output_type": "execute_result"
    }
   ],
   "source": [
    "m"
   ]
  },
  {
   "cell_type": "code",
   "execution_count": null,
   "metadata": {},
   "outputs": [],
   "source": []
  }
 ],
 "metadata": {
  "kernelspec": {
   "display_name": "Python 3",
   "language": "python",
   "name": "python3"
  },
  "language_info": {
   "codemirror_mode": {
    "name": "ipython",
    "version": 3
   },
   "file_extension": ".py",
   "mimetype": "text/x-python",
   "name": "python",
   "nbconvert_exporter": "python",
   "pygments_lexer": "ipython3",
   "version": "3.7.1"
  }
 },
 "nbformat": 4,
 "nbformat_minor": 2
}
