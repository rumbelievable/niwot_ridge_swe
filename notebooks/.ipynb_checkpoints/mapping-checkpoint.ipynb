{
 "cells": [
  {
   "cell_type": "code",
   "execution_count": 3,
   "metadata": {},
   "outputs": [],
   "source": [
    "import pandas as pd\n",
    "import numpy as np\n",
    "import scipy.stats as stats\n",
    "import matplotlib.pyplot as plt\n",
    "import folium "
   ]
  },
  {
   "cell_type": "code",
   "execution_count": 4,
   "metadata": {},
   "outputs": [
    {
     "name": "stdout",
     "output_type": "stream",
     "text": [
      "Capstone_I.ipynb  mapping.ipynb     plotting.ipynb\r\n"
     ]
    }
   ],
   "source": [
    "ls"
   ]
  },
  {
   "cell_type": "code",
   "execution_count": 5,
   "metadata": {},
   "outputs": [],
   "source": [
    "df = pd.read_csv('/Users/annierumbles/Desktop/Coding/galvanize/capstone_work/data/latest_knb-lter-nwt.96.16/snowateq.mw.data.16.csv')"
   ]
  },
  {
   "cell_type": "code",
   "execution_count": 6,
   "metadata": {},
   "outputs": [
    {
     "data": {
      "text/plain": [
       "0   1993-02-26\n",
       "1   1993-02-26\n",
       "2   1993-02-26\n",
       "3   1993-02-26\n",
       "4   1993-03-04\n",
       "Name: date, dtype: datetime64[ns]"
      ]
     },
     "execution_count": 6,
     "metadata": {},
     "output_type": "execute_result"
    }
   ],
   "source": [
    "df2 = pd.to_datetime(df['date'])\n",
    "df2.head()"
   ]
  },
  {
   "cell_type": "code",
   "execution_count": 7,
   "metadata": {},
   "outputs": [],
   "source": [
    "df_15 = pd.read_csv('/Users/annierumbles/Desktop/Coding/galvanize/capstone_work/data/knb-lter-nwt.96.15/snowateq.mw.data.15.csv')"
   ]
  },
  {
   "cell_type": "code",
   "execution_count": 8,
   "metadata": {},
   "outputs": [
    {
     "name": "stdout",
     "output_type": "stream",
     "text": [
      "<class 'pandas.core.frame.DataFrame'>\n",
      "RangeIndex: 1264 entries, 0 to 1263\n",
      "Data columns (total 10 columns):\n",
      "LTER_site     1264 non-null object\n",
      "local_site    1251 non-null object\n",
      "samp_loc      1264 non-null object\n",
      "loc_code      1264 non-null object\n",
      "date          1264 non-null object\n",
      "prof_depth    1264 non-null float64\n",
      "mass          1198 non-null float64\n",
      "wted_temp     1238 non-null float64\n",
      "density       1198 non-null float64\n",
      "swe           1198 non-null float64\n",
      "dtypes: float64(5), object(5)\n",
      "memory usage: 98.8+ KB\n"
     ]
    }
   ],
   "source": [
    "df.info()"
   ]
  },
  {
   "cell_type": "code",
   "execution_count": 9,
   "metadata": {},
   "outputs": [
    {
     "data": {
      "text/html": [
       "<div>\n",
       "<style scoped>\n",
       "    .dataframe tbody tr th:only-of-type {\n",
       "        vertical-align: middle;\n",
       "    }\n",
       "\n",
       "    .dataframe tbody tr th {\n",
       "        vertical-align: top;\n",
       "    }\n",
       "\n",
       "    .dataframe thead th {\n",
       "        text-align: right;\n",
       "    }\n",
       "</style>\n",
       "<table border=\"1\" class=\"dataframe\">\n",
       "  <thead>\n",
       "    <tr style=\"text-align: right;\">\n",
       "      <th></th>\n",
       "      <th>LTER_site</th>\n",
       "      <th>local_site</th>\n",
       "      <th>samp_loc</th>\n",
       "      <th>loc_code</th>\n",
       "      <th>date</th>\n",
       "      <th>prof_depth</th>\n",
       "      <th>mass</th>\n",
       "      <th>wted_temp</th>\n",
       "      <th>density</th>\n",
       "      <th>swe</th>\n",
       "    </tr>\n",
       "  </thead>\n",
       "  <tbody>\n",
       "    <tr>\n",
       "      <th>0</th>\n",
       "      <td>NWT</td>\n",
       "      <td>SADDLE</td>\n",
       "      <td>SDL.008</td>\n",
       "      <td>008</td>\n",
       "      <td>1993-02-26</td>\n",
       "      <td>0.73</td>\n",
       "      <td>223.81</td>\n",
       "      <td>-8.356164</td>\n",
       "      <td>306.589041</td>\n",
       "      <td>0.22381</td>\n",
       "    </tr>\n",
       "    <tr>\n",
       "      <th>1</th>\n",
       "      <td>NWT</td>\n",
       "      <td>SADDLE</td>\n",
       "      <td>SDL.028</td>\n",
       "      <td>028</td>\n",
       "      <td>1993-02-26</td>\n",
       "      <td>0.38</td>\n",
       "      <td>100.84</td>\n",
       "      <td>-7.684211</td>\n",
       "      <td>265.368421</td>\n",
       "      <td>0.10084</td>\n",
       "    </tr>\n",
       "    <tr>\n",
       "      <th>2</th>\n",
       "      <td>NWT</td>\n",
       "      <td>SADDLE</td>\n",
       "      <td>SDL.056</td>\n",
       "      <td>056</td>\n",
       "      <td>1993-02-26</td>\n",
       "      <td>1.90</td>\n",
       "      <td>NaN</td>\n",
       "      <td>-8.000000</td>\n",
       "      <td>NaN</td>\n",
       "      <td>NaN</td>\n",
       "    </tr>\n",
       "    <tr>\n",
       "      <th>3</th>\n",
       "      <td>NWT</td>\n",
       "      <td>SADDLE</td>\n",
       "      <td>SDL.058</td>\n",
       "      <td>058</td>\n",
       "      <td>1993-02-26</td>\n",
       "      <td>0.59</td>\n",
       "      <td>181.06</td>\n",
       "      <td>-7.305085</td>\n",
       "      <td>306.881356</td>\n",
       "      <td>0.18106</td>\n",
       "    </tr>\n",
       "    <tr>\n",
       "      <th>4</th>\n",
       "      <td>NWT</td>\n",
       "      <td>SADDLE</td>\n",
       "      <td>SDL.007</td>\n",
       "      <td>007</td>\n",
       "      <td>1993-03-04</td>\n",
       "      <td>0.49</td>\n",
       "      <td>182.04</td>\n",
       "      <td>-5.489796</td>\n",
       "      <td>371.510204</td>\n",
       "      <td>0.18204</td>\n",
       "    </tr>\n",
       "  </tbody>\n",
       "</table>\n",
       "</div>"
      ],
      "text/plain": [
       "  LTER_site local_site samp_loc loc_code        date  prof_depth    mass  \\\n",
       "0       NWT     SADDLE  SDL.008      008  1993-02-26        0.73  223.81   \n",
       "1       NWT     SADDLE  SDL.028      028  1993-02-26        0.38  100.84   \n",
       "2       NWT     SADDLE  SDL.056      056  1993-02-26        1.90     NaN   \n",
       "3       NWT     SADDLE  SDL.058      058  1993-02-26        0.59  181.06   \n",
       "4       NWT     SADDLE  SDL.007      007  1993-03-04        0.49  182.04   \n",
       "\n",
       "   wted_temp     density      swe  \n",
       "0  -8.356164  306.589041  0.22381  \n",
       "1  -7.684211  265.368421  0.10084  \n",
       "2  -8.000000         NaN      NaN  \n",
       "3  -7.305085  306.881356  0.18106  \n",
       "4  -5.489796  371.510204  0.18204  "
      ]
     },
     "execution_count": 9,
     "metadata": {},
     "output_type": "execute_result"
    }
   ],
   "source": [
    "df.head()"
   ]
  },
  {
   "cell_type": "code",
   "execution_count": 10,
   "metadata": {},
   "outputs": [
    {
     "data": {
      "text/plain": [
       "['SADDLE',\n",
       " 'GL4',\n",
       " 'GL5',\n",
       " 'NAVAJO',\n",
       " 'MARTINELLI',\n",
       " 'ARIKAREE',\n",
       " 'SUBNIVEAN',\n",
       " 'ALBION',\n",
       " 'GL3',\n",
       " 'TOWER MEADOW',\n",
       " 'TOWER TREE WELL',\n",
       " 'C1',\n",
       " 'SODDIE',\n",
       " nan]"
      ]
     },
     "execution_count": 10,
     "metadata": {},
     "output_type": "execute_result"
    }
   ],
   "source": [
    "local_site_names = df['local_site'].unique()\n",
    "list(local_site_names)"
   ]
  },
  {
   "cell_type": "code",
   "execution_count": 11,
   "metadata": {},
   "outputs": [
    {
     "data": {
      "text/plain": [
       "array(['SDL.008', 'SDL.028', 'SDL.056', 'SDL.058', 'SDL.007', 'SDL.035',\n",
       "       'SDL.037', 'SDL.016', 'SDL.027', 'G4S', 'G4N', 'GL4.OUTLET', 'GL5',\n",
       "       'NAV', 'SDL.018', 'SDL.026', 'SDL.036', 'SDL.46', 'SDL.N15', 'M19',\n",
       "       'M10', 'SDL.014', 'M2', 'SDL.N15.THERMISTOR3E', 'SDL.005',\n",
       "       'SDL.N15.NO3', 'SDL.N15.NCO', 'SDL.N15.NH4', 'ARK', 'SUB',\n",
       "       'SDL.006', 'SSB', 'MA1', 'MA2', 'MA3', 'SDL.013', 'AVN', 'AVV',\n",
       "       'G3N', 'G3S', 'G3V', 'G4V', 'G5N', 'G5S', 'G5V', 'SAE', 'SAW',\n",
       "       'T30', 'SSW', 'SWN', '5OS', 'TM1', 'TM2', 'TW2', 'TW1', 'HYD',\n",
       "       'C1.BOWLING', 'G5W', 'G5E', 'NOM', 'NES', 'NEM', 'SAN', 'C1T'],\n",
       "      dtype=object)"
      ]
     },
     "execution_count": 11,
     "metadata": {},
     "output_type": "execute_result"
    }
   ],
   "source": [
    "df['samp_loc'].unique()"
   ]
  },
  {
   "cell_type": "code",
   "execution_count": 12,
   "metadata": {},
   "outputs": [
    {
     "data": {
      "text/plain": [
       "14"
      ]
     },
     "execution_count": 12,
     "metadata": {},
     "output_type": "execute_result"
    }
   ],
   "source": [
    "len(df['local_site'].unique())"
   ]
  },
  {
   "cell_type": "code",
   "execution_count": 13,
   "metadata": {},
   "outputs": [
    {
     "data": {
      "text/plain": [
       "array(['NWT'], dtype=object)"
      ]
     },
     "execution_count": 13,
     "metadata": {},
     "output_type": "execute_result"
    }
   ],
   "source": [
    "df['LTER_site'].unique()"
   ]
  },
  {
   "cell_type": "code",
   "execution_count": 14,
   "metadata": {},
   "outputs": [],
   "source": [
    "locs = df['loc_code'].unique()"
   ]
  },
  {
   "cell_type": "code",
   "execution_count": 15,
   "metadata": {},
   "outputs": [],
   "source": [
    "locs_list = []\n",
    "for i in locs:\n",
    "    locs_list.append(i)\n"
   ]
  },
  {
   "cell_type": "code",
   "execution_count": 16,
   "metadata": {},
   "outputs": [
    {
     "data": {
      "text/plain": [
       "68"
      ]
     },
     "execution_count": 16,
     "metadata": {},
     "output_type": "execute_result"
    }
   ],
   "source": [
    "len(locs_list)"
   ]
  },
  {
   "cell_type": "code",
   "execution_count": 17,
   "metadata": {},
   "outputs": [
    {
     "data": {
      "text/html": [
       "<div>\n",
       "<style scoped>\n",
       "    .dataframe tbody tr th:only-of-type {\n",
       "        vertical-align: middle;\n",
       "    }\n",
       "\n",
       "    .dataframe tbody tr th {\n",
       "        vertical-align: top;\n",
       "    }\n",
       "\n",
       "    .dataframe thead th {\n",
       "        text-align: right;\n",
       "    }\n",
       "</style>\n",
       "<table border=\"1\" class=\"dataframe\">\n",
       "  <thead>\n",
       "    <tr style=\"text-align: right;\">\n",
       "      <th></th>\n",
       "      <th>prof_depth</th>\n",
       "      <th>mass</th>\n",
       "      <th>wted_temp</th>\n",
       "      <th>density</th>\n",
       "      <th>swe</th>\n",
       "    </tr>\n",
       "  </thead>\n",
       "  <tbody>\n",
       "    <tr>\n",
       "      <th>count</th>\n",
       "      <td>1264.000000</td>\n",
       "      <td>1198.000000</td>\n",
       "      <td>1238.000000</td>\n",
       "      <td>1198.000000</td>\n",
       "      <td>1198.000000</td>\n",
       "    </tr>\n",
       "    <tr>\n",
       "      <th>mean</th>\n",
       "      <td>1.381930</td>\n",
       "      <td>544.902083</td>\n",
       "      <td>-2.904826</td>\n",
       "      <td>379.745244</td>\n",
       "      <td>0.544902</td>\n",
       "    </tr>\n",
       "    <tr>\n",
       "      <th>std</th>\n",
       "      <td>0.705884</td>\n",
       "      <td>315.118658</td>\n",
       "      <td>2.858923</td>\n",
       "      <td>82.024627</td>\n",
       "      <td>0.315119</td>\n",
       "    </tr>\n",
       "    <tr>\n",
       "      <th>min</th>\n",
       "      <td>0.070000</td>\n",
       "      <td>26.743889</td>\n",
       "      <td>-17.500000</td>\n",
       "      <td>117.250000</td>\n",
       "      <td>0.026744</td>\n",
       "    </tr>\n",
       "    <tr>\n",
       "      <th>25%</th>\n",
       "      <td>0.800000</td>\n",
       "      <td>271.967500</td>\n",
       "      <td>-4.812997</td>\n",
       "      <td>325.418651</td>\n",
       "      <td>0.271967</td>\n",
       "    </tr>\n",
       "    <tr>\n",
       "      <th>50%</th>\n",
       "      <td>1.350000</td>\n",
       "      <td>520.508333</td>\n",
       "      <td>-2.400000</td>\n",
       "      <td>379.563492</td>\n",
       "      <td>0.520508</td>\n",
       "    </tr>\n",
       "    <tr>\n",
       "      <th>75%</th>\n",
       "      <td>1.900000</td>\n",
       "      <td>785.525000</td>\n",
       "      <td>-0.136132</td>\n",
       "      <td>437.673872</td>\n",
       "      <td>0.785525</td>\n",
       "    </tr>\n",
       "    <tr>\n",
       "      <th>max</th>\n",
       "      <td>4.500000</td>\n",
       "      <td>1724.925000</td>\n",
       "      <td>0.187500</td>\n",
       "      <td>628.425150</td>\n",
       "      <td>1.724925</td>\n",
       "    </tr>\n",
       "  </tbody>\n",
       "</table>\n",
       "</div>"
      ],
      "text/plain": [
       "        prof_depth         mass    wted_temp      density          swe\n",
       "count  1264.000000  1198.000000  1238.000000  1198.000000  1198.000000\n",
       "mean      1.381930   544.902083    -2.904826   379.745244     0.544902\n",
       "std       0.705884   315.118658     2.858923    82.024627     0.315119\n",
       "min       0.070000    26.743889   -17.500000   117.250000     0.026744\n",
       "25%       0.800000   271.967500    -4.812997   325.418651     0.271967\n",
       "50%       1.350000   520.508333    -2.400000   379.563492     0.520508\n",
       "75%       1.900000   785.525000    -0.136132   437.673872     0.785525\n",
       "max       4.500000  1724.925000     0.187500   628.425150     1.724925"
      ]
     },
     "execution_count": 17,
     "metadata": {},
     "output_type": "execute_result"
    }
   ],
   "source": [
    "df.describe()"
   ]
  },
  {
   "cell_type": "code",
   "execution_count": 34,
   "metadata": {},
   "outputs": [],
   "source": [
    "color_dict = {'Saddle':'#E24A33','GL4':'#348ABD','GL5':'#988ED5','Navajo':'#777777','Martinelli':'#FBC15E',\n",
    "              'Arikaree':'#8EBA42','Subnivean':'#FFB5B8','Albion':'#92C5DE','GL3':'#80CDC1',\n",
    "              'Tower Meadow':'#5E3C99', 'Tower Tree Well':'#E66101','C1':'#F4A582','Soddie':'#B8E186'}\n",
    "def add_site(imap, loc, tag, radius=100):\n",
    "    '''\n",
    "    Plot sites on folium map.\n",
    "\n",
    "    Parameters\n",
    "    ----------\n",
    "    loc_name : list\n",
    "        Names of sampling sites.\n",
    "    lat_long : tuple\n",
    "        Latitude and longitude of each site.\n",
    "\n",
    "    Returns\n",
    "    -------\n",
    "    Folium map of sampling sites.\n",
    "    '''\n",
    "    folium.Circle(loc, radius, color=color_dict[tag], popup=tag).add_to(imap)"
   ]
  },
  {
   "cell_type": "code",
   "execution_count": 113,
   "metadata": {},
   "outputs": [],
   "source": [
    "m = folium.Map(location=[40.0443, -105.5920],\n",
    "               zoom_start=13,\n",
    "               tiles='Stamen Terrain')\n",
    "m.add_child(folium.LatLngPopup())\n",
    "\n",
    "# folium.Marker([40.054155, -105.588980], \n",
    "#               popup='<b>Niwot Ridge</b>').add_to(m)\n",
    "\n",
    "names = ['SADDLE','GL4','GL5','NAVAJO','MARTINELLI','ARIKAREE','SUBNIVEAN','ALBION','GL3','TOWER MEADOW',\n",
    "         'TOWER TREE WELL','C1','SODDIE']\n",
    "# lats = {'SADDLE': (40.05, -105.59), 'GL4': (40.0558068932155, -105.61717784273749), 'GL5': (,), 'MARTINELLI' :(40.05315986684726,-105.59667627824962)\n",
    "#        }\n",
    "lter = [(40.0595312337778, -105.54), (40.03, -105.645)]\n",
    "folium.vector_layers.Rectangle(\n",
    "    bounds = lter,\n",
    "    stroke=True,\n",
    "    weight=5,\n",
    "    opacity=1,\n",
    "    color='#424242'\n",
    ").add_to(m)\n",
    "\n",
    "add_site(m, [40.05, -105.59], 'Saddle', 150)\n",
    "add_site(m, [40.047388, -105.599580], 'Albion', 115)\n",
    "add_site(m, (40.0558068932155, -105.61717784273749), 'GL4')\n",
    "add_site(m, [40.052166, -105.630514], 'GL5', 130)\n",
    "add_site(m, [40.052108, -105.635561], 'Navajo')\n",
    "add_site(m, [40.05315986684726,-105.59667627824962], 'Martinelli')\n",
    "add_site(m, [40.050791, -105.641416], 'Arikaree')\n",
    "add_site(m, [40.054165, -105.588975], 'Subnivean')\n",
    "add_site(m, [40.051282, -105.615962], 'GL3', 120)\n",
    "add_site(m, [40.052348, -105.583235], 'Tower Meadow')\n",
    "add_site(m, [40.033371, -105.547389], 'Tower Tree Well')\n",
    "add_site(m, [40.036162, -105.543529], 'C1')\n",
    "add_site(m, [40.04, -105.57], 'Soddie')\n",
    "\n",
    "\n",
    "# grid = [(40.056266, -105.588671), (40.05545, -105.589991)]\n",
    "# folium.vector_layers.Rectangle(\n",
    "#     bounds = grid,\n",
    "#     stroke=True,\n",
    "#     weight=1,\n",
    "#     opacity=.8,\n",
    "#     color='#3b824e',\n",
    "#     fill=True,\n",
    "#     fill_color='#3b824e',\n",
    "#     fill_opacity=.5,\n",
    "#     popup='Saddle'\n",
    "# ).add_to(m)\n",
    "\n",
    "# mart = [(40.056203, -105.602428), (40.047418, -105.591648)]\n",
    "# folium.vector_layers.Rectangle(\n",
    "#     bounds = mart,\n",
    "#     stroke=True,\n",
    "#     weight=1,\n",
    "#     opacity=.8,\n",
    "#     color='#4358a8',\n",
    "#     fill=True,\n",
    "#     fill_color='#4358a8',\n",
    "#     fill_opacity=.5,\n",
    "#     popup='Martinelli'\n",
    "# ).add_to(m)\n",
    "\n",
    "plt.show()"
   ]
  },
  {
   "cell_type": "code",
   "execution_count": 114,
   "metadata": {},
   "outputs": [
    {
     "data": {
      "text/html": [
       "<div style=\"width:100%;\"><div style=\"position:relative;width:100%;height:0;padding-bottom:60%;\"><iframe src=\"about:blank\" style=\"position:absolute;width:100%;height:100%;left:0;top:0;border:none !important;\" data-html=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 onload=\"this.contentDocument.open();this.contentDocument.write(atob(this.getAttribute('data-html')));this.contentDocument.close();\" allowfullscreen webkitallowfullscreen mozallowfullscreen></iframe></div></div>"
      ],
      "text/plain": [
       "<folium.folium.Map at 0x1a221957f0>"
      ]
     },
     "execution_count": 114,
     "metadata": {},
     "output_type": "execute_result"
    }
   ],
   "source": [
    "m"
   ]
  },
  {
   "cell_type": "code",
   "execution_count": 49,
   "metadata": {},
   "outputs": [
    {
     "data": {
      "text/plain": [
       "['SADDLE',\n",
       " 'GL4',\n",
       " 'GL5',\n",
       " 'NAVAJO',\n",
       " 'MARTINELLI',\n",
       " 'ARIKAREE',\n",
       " 'SUBNIVEAN',\n",
       " 'ALBION',\n",
       " 'GL3',\n",
       " 'TOWER MEADOW',\n",
       " 'TOWER TREE WELL',\n",
       " 'C1',\n",
       " 'SODDIE',\n",
       " nan]"
      ]
     },
     "execution_count": 49,
     "metadata": {},
     "output_type": "execute_result"
    }
   ],
   "source": [
    "list(local_site_names)"
   ]
  },
  {
   "cell_type": "code",
   "execution_count": null,
   "metadata": {},
   "outputs": [],
   "source": []
  },
  {
   "cell_type": "code",
   "execution_count": null,
   "metadata": {},
   "outputs": [],
   "source": []
  }
 ],
 "metadata": {
  "kernelspec": {
   "display_name": "Python 3",
   "language": "python",
   "name": "python3"
  },
  "language_info": {
   "codemirror_mode": {
    "name": "ipython",
    "version": 3
   },
   "file_extension": ".py",
   "mimetype": "text/x-python",
   "name": "python",
   "nbconvert_exporter": "python",
   "pygments_lexer": "ipython3",
   "version": "3.7.1"
  }
 },
 "nbformat": 4,
 "nbformat_minor": 2
}
